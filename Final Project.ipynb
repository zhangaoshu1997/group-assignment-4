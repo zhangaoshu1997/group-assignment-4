{
 "cells": [
  {
   "cell_type": "markdown",
   "metadata": {},
   "source": [
    "# Group Assignment 5 - Final Report\n",
    "IST 210 - Section 008\n",
    "Professor Dudas\n",
    "10 December 2019\n"
   ]
  },
  {
   "cell_type": "markdown",
   "metadata": {},
   "source": [
    "# Group 15\n",
    "Aoshu Zhang - Spencer Lasky - \n",
    "Nicholas Rizzolo - Olivia Rueger\n"
   ]
  },
  {
   "cell_type": "markdown",
   "metadata": {},
   "source": [
    "# Project introduction: "
   ]
  },
  {
   "cell_type": "markdown",
   "metadata": {},
   "source": [
    "Humanlo is a fictional software that would compete with companies such as Oracle and Workday creating a workplace friendly human resource database system.We chose this project because it is a business application to our database studies. We first identified the needs of a company, and what they may need to track. We decided to organize our data into three tables: employee information (containing email address, employee ID, and years at company), salary (containing starting salary, current salary and date of last paycheck) along with sales and performance data. Humanlo is superior to other forms of spreadsheets and databases because it works within the cloud system, meaning that the private company does not have to set aside private storage for the data and it can be accessed anywhere through an internet connection. Our group found this idea to not only be practical in the technological workplace, but innovative and challenging as well. \n"
   ]
  },
  {
   "cell_type": "markdown",
   "metadata": {},
   "source": [
    "# Video (group assignment 3): "
   ]
  },
  {
   "cell_type": "markdown",
   "metadata": {},
   "source": [
    "https://drive.google.com/file/d/1R3nCMRGUDjREZcNI40v3KF7aVd4NfjsB/view?usp=drive_web"
   ]
  },
  {
   "cell_type": "markdown",
   "metadata": {},
   "source": [
    "# ER Diagram (group assignment 4 with suggestions/corrections): \n"
   ]
  },
  {
   "cell_type": "markdown",
   "metadata": {},
   "source": [
    "<img src=\"5.PNG\">"
   ]
  },
  {
   "cell_type": "markdown",
   "metadata": {},
   "source": [
    "# ER Diagram Specifics:"
   ]
  },
  {
   "cell_type": "markdown",
   "metadata": {},
   "source": [
    "Our ER Diagram contains 4 tables: Salary, Employee, Sales and Bonus. The relationship between them is essentially that the sales an employee makes impacts their bonus which is taken into account for their final salary. Employee ID is a foreign key in the sales table so that we can keep track of which employee made the sale as well as the other information along with that sale including the customer, product and price. Sales ID is used to factor in the bonus an employee earns and Employee ID once again indicates which Employee will be earning that Bonus. Once the sales have been factored in to create a Bonus for the Employees, their salary can be determined by adding Total Employee Bonus and Starting Salary to get the Final Salary of each Employee. \n"
   ]
  },
  {
   "cell_type": "markdown",
   "metadata": {},
   "source": [
    "# How Database/tables were created and how data was inserted:\n"
   ]
  },
  {
   "cell_type": "markdown",
   "metadata": {},
   "source": [
    "The database and tables are created by using colab. The 3 tables we are going to use in this assignment are employee, salary and sales. For employee, we created the employee ID for the primary key. Name, email address and years at company as foreign keys. For salary, we put employee salary as the primary key. Starting salary and date of the latest paycheck as the foreign keys. Then, for sales, we put sales ID as the primary key. And the foreign keys include customer, product name and their prices. All of the data values are fake values. But we tried our best to make them reasonable. \n"
   ]
  },
  {
   "cell_type": "markdown",
   "metadata": {},
   "source": [
    "# Code to create and populate database:\n"
   ]
  },
  {
   "cell_type": "code",
   "execution_count": null,
   "metadata": {},
   "outputs": [],
   "source": [
    "connectionToDatabase = sqlite3.connect('humanlo')\n",
    "cursor = connectionToDatabase.cursor()\n",
    "cursor.execute('''drop table IF EXISTS Employee''')\n",
    "connectionToDatabase.commit()\n",
    " \n",
    "cursor.execute('''create table Employee (ID text PRIMARY KEY, Name text, Email adrress text, Years at company text)''')\n",
    "connectionToDatabase.commit()\n",
    " \n",
    "cursor.execute('''drop table IF EXISTS Salary''')\n",
    "connectionToDatabase.commit()\n",
    " \n",
    "cursor.execute('''create table Salary (Employee salary text PRIMARY KEY, Starting salary real, Date of the latest paycheck text)''')\n",
    "connectionToDatabase.commit()\n",
    " \n",
    "cursor.execute('''drop table IF EXISTS Sales''')\n",
    "connectionToDatabase.commit()\n",
    " \n",
    "cursor.execute('''create table Sales(Sales ID text PRIMARY KEY, Customer text, Product name text, Price real)''')\n",
    "connectionToDatabase.commit()\n",
    "\n",
    "\n",
    "\n",
    "insertStatement =  \"\"\"insert into Employee values ('2901', 'Alvaro Ramos', 'ramos1290@gmail.com', '6')\"\"\"\n",
    "cursor.execute(insertStatement)\n",
    "insertStatement =  \"\"\"insert into Employee values ('2904', 'Larry Thomas', 'larry2235@gmail.com', '4')\"\"\"\n",
    "cursor.execute(insertStatement)\n",
    "insertStatement =  \"\"\"insert into Employee values ('2804', 'Steven Chen', 'chyujia@yahoo.com', '11')\"\"\"\n",
    "cursor.execute(insertStatement)\n",
    "insertStatement =  \"\"\"insert into Employee values ('2798', 'Mohhamad Tibers', 'msala@yahoo.com', '2')\"\"\"\n",
    "cursor.execute(insertStatement)\n"
   ]
  },
  {
   "cell_type": "markdown",
   "metadata": {},
   "source": [
    "# Scenario for the average person wanting to use database:"
   ]
  },
  {
   "cell_type": "markdown",
   "metadata": {},
   "source": [
    "The main group that would be drawn to using this database would be a business that is looking for a way to organize data about various components they oversee, whether it be inventory, employees or sales as well as other key information pertaining to each. The compatibility with numerous modern-day business structures would be especially attractive allowing for easy widespread access to valuable company information that is organized in a sufficient manner making it easier to pull out such data when needed rather than having to filter through a copious amount of unfiltered numbers. Humanlo eliminates the hassle of having to sift through large amounts of information so that companies who use it can make informed decisions at a quicker pace allowing them to stay ahead of their competition and keeping customers satisfied with their quick service when applicable. \n"
   ]
  },
  {
   "cell_type": "markdown",
   "metadata": {},
   "source": [
    "# 3 queries helpful for us or user and why:\n"
   ]
  },
  {
   "cell_type": "markdown",
   "metadata": {},
   "source": [
    "1.Which employees (top 3) have the longest years at company?\n",
    "\n",
    "SELECT Name,Years at company FROM Employee ORDER BY Years at company DESC LIMIT 3;\n",
    "\n",
    "('Steven Chen', 11)\n",
    "\n",
    "('Alvaro Ramos', 6)\n",
    "\n",
    "('Larry Thomas', 4)\n",
    "\n",
    "Comment: It is very important to know your veterans at your company. Because they have a lot of experiences that can help new employees. Dealing the relationships with them is also very important. As long as you treated them well, they are more likely to stay and keep bringing benifits to the company.\n",
    "\n",
    "2.Which customers (top 3) bought the highest amount of products?\n",
    "\n",
    "SELECT Customer,sales amount( )𝐹𝑅𝑂𝑀𝑆𝑎𝑙𝑒𝑠𝑂𝑅𝐷𝐸𝑅𝐵𝑌𝑠𝑎𝑙𝑒𝑠𝑎𝑚𝑜𝑢𝑛𝑡( ) DESC LIMIT 3;\n",
    "\n",
    "('FNC', 126500)\n",
    "\n",
    "('JDG', 78000)\n",
    "\n",
    "('iG', 67000)\n",
    "\n",
    "Comment: It is important to know which customer bought the highest amount of products, because next time you can try to sale your next generation products to them. And they are more likely to buy it than the other customers.\n",
    "\n",
    "1.What is the top 3 bonus among the salaries?\n",
    "\n",
    "SELECT salary amount($),Bonus FROM Salary ORDER BY Bonus at company DESC LIMIT 3;\n",
    "\n",
    "('10000', 2757)\n",
    "\n",
    "('15000', 867)\n",
    "\n",
    "('8000', 754)\n",
    "\n",
    "Comment: Bonus is a good indicator for employee's performance, the higher bonus they get, they more likely they did well in their areas. But this is only a possible explaination. Bonus can be varies depend on some other factors as well."
   ]
  },
  {
   "cell_type": "code",
   "execution_count": null,
   "metadata": {},
   "outputs": [],
   "source": []
  }
 ],
 "metadata": {
  "kernelspec": {
   "display_name": "Python 3",
   "language": "python",
   "name": "python3"
  },
  "language_info": {
   "codemirror_mode": {
    "name": "ipython",
    "version": 3
   },
   "file_extension": ".py",
   "mimetype": "text/x-python",
   "name": "python",
   "nbconvert_exporter": "python",
   "pygments_lexer": "ipython3",
   "version": "3.7.3"
  }
 },
 "nbformat": 4,
 "nbformat_minor": 2
}
