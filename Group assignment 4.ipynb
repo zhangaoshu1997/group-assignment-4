{
 "cells": [
  {
   "cell_type": "markdown",
   "metadata": {},
   "source": [
    "# ER Diagram"
   ]
  },
  {
   "cell_type": "markdown",
   "metadata": {},
   "source": [
    "<img src=\"123.PNG\">"
   ]
  },
  {
   "cell_type": "markdown",
   "metadata": {},
   "source": [
    "# Questions and SQL query"
   ]
  },
  {
   "cell_type": "raw",
   "metadata": {},
   "source": [
    "Name\tEmail address\t\tYears at company\t\tID\tsalary amount($)\t\tStarting salary\t\tBonus\tDate of last paycheck\t\tsales amount($)\t\tCustomer\tProduct\tBenefits\n",
    "Larry Thomas\tlarry1987@gmail.com\t\t4\t\t93756\t8754\t\t8000\t\t754\t10/31/2019\t\t65000\t\tBLG\tAL GAL\t20000\n",
    "Arthur Simpson\tasimpson@gmail.com\t\t3\t\t93876\t12757\t\t10000\t\t2757\t11/11/2019\t\t78000\t\tJDG\tSCUM\t10000\n",
    "Mohammad Halifa\tmo9511@yahoo.com\t\t1\t\t90823\t5674\t\t5000\t\t674\t11/10/2019\t\t67000\t\tIG\tRHT\t17000\n",
    "Steven Chen\tstevechen@qq.com\t\t11\t\t91567\t15867\t\t15000\t\t867\t11/09/2019\t\t20000\t\tRNG\tACTEX\t5000\n",
    "Alvaro Ramos\tbravoramos@outlook.com\t\t6\t\t93748\t9754\t\t9000\t\t754\t10/30/2019\t\t126500\t\tFNC\tACTEX\t26000\n"
   ]
  },
  {
   "cell_type": "markdown",
   "metadata": {},
   "source": [
    "# Database"
   ]
  },
  {
   "cell_type": "markdown",
   "metadata": {},
   "source": [
    "1.Which employees (top 3) have the longest years at company?\n",
    "\n",
    "SELECT Name,Years at company FROM Employee ORDER BY Years at company DESC LIMIT 3;\n",
    "\n",
    "('Steven Chen', 11)\n",
    "\n",
    "('Alvaro Ramos', 6)\n",
    "\n",
    "('Larry Thomas', 4)\n",
    "\n",
    "Comment: It is very important to know your veterans at your company. Because they have a lot of experiences that can help new employees. Dealing the relationships with them is also very important. As long as you treated them well, they are more likely to stay and keep bringing benifits to the company. \n",
    "\n",
    "\n",
    "\n",
    "\n",
    "2.Which customers (top 3) bought the highest amount of products?\n",
    "\n",
    "SELECT Customer,sales amount($) FROM Sales ORDER BY sales amount($) DESC LIMIT 3;\n",
    "\n",
    "('FNC', 126500)\n",
    "\n",
    "('JDG', 78000)\n",
    "\n",
    "('iG', 67000)\n",
    "\n",
    "Comment: It is important to know which customer bought the highest amount of products, because next time you can try to sale your next generation products to them. And they are more likely to buy it than the other customers.\n",
    "\n",
    "1.What is the top 3 bonus among the salaries?\n",
    "\n",
    "SELECT salary amount($),Bonus FROM Salary ORDER BY Bonus at company DESC LIMIT 3;\n",
    "\n",
    "('10000', 2757)\n",
    "\n",
    "('15000', 867)\n",
    "\n",
    "('8000', 754)\n",
    "\n",
    "Comment: Bonus is a good indicator for employee's performance, the higher bonus they get, they more likely they did well in their areas. But this is only a possible explaination. Bonus can be varies depend on some other factors as well. \n",
    "\n",
    "\n"
   ]
  }
 ],
 "metadata": {
  "kernelspec": {
   "display_name": "Python 3",
   "language": "python",
   "name": "python3"
  },
  "language_info": {
   "codemirror_mode": {
    "name": "ipython",
    "version": 3
   },
   "file_extension": ".py",
   "mimetype": "text/x-python",
   "name": "python",
   "nbconvert_exporter": "python",
   "pygments_lexer": "ipython3",
   "version": "3.7.3"
  }
 },
 "nbformat": 4,
 "nbformat_minor": 2
}
